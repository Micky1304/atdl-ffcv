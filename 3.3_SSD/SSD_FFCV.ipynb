{
 "cells": [
  {
   "cell_type": "markdown",
   "id": "14555eb4-2e0c-45a8-8677-48ee067c3b2e",
   "metadata": {},
   "source": [
    "# Loading the dataset from SSD storage with FFCV"
   ]
  },
  {
   "cell_type": "code",
   "execution_count": 1,
   "id": "0937b7e4-975a-4e8e-92af-d51fb3569854",
   "metadata": {},
   "outputs": [
    {
     "name": "stderr",
     "output_type": "stream",
     "text": [
      "/usr/local/lib/python3.10/dist-packages/numba/np/ufunc/parallel.py:371: NumbaWarning: The TBB threading layer requires TBB version 2021 update 6 or later i.e., TBB_INTERFACE_VERSION >= 12060. Found TBB_INTERFACE_VERSION = 12050. The TBB threading layer is disabled.\n",
      "  warnings.warn(problem)\n"
     ]
    }
   ],
   "source": [
    "from ffcv.loader import Loader, OrderOption\n",
    "from ffcv.fields.decoders import NDArrayDecoder, FloatDecoder\n",
    "from ffcv.transforms import ToTensor\n",
    "import time\n",
    "import os\n",
    "import numpy as np"
   ]
  },
  {
   "cell_type": "code",
   "execution_count": 2,
   "id": "1924b1e6-606b-49fb-a24b-6558a0325b88",
   "metadata": {},
   "outputs": [],
   "source": [
    "loader = Loader(\"../ssd/train_data.beton\",\n",
    "                batch_size=48,\n",
    "                num_workers=8,\n",
    "                order=OrderOption.RANDOM,\n",
    "                pipelines = { \n",
    "                    \"image\": [NDArrayDecoder(), ToTensor()],\n",
    "                    \"label\": [FloatDecoder(), ToTensor()]\n",
    "                })"
   ]
  },
  {
   "cell_type": "code",
   "execution_count": 3,
   "id": "71e6c108-f293-4218-9f7e-882bb3419acf",
   "metadata": {},
   "outputs": [
    {
     "name": "stdout",
     "output_type": "stream",
     "text": [
      "Epoch 1 done in 15.522669553756714 seconds.\n",
      "Epoch 2 done in 2.5188796520233154 seconds.\n",
      "Epoch 3 done in 1.9690139293670654 seconds.\n",
      "Epoch 4 done in 1.9043705463409424 seconds.\n",
      "Epoch 5 done in 1.8938262462615967 seconds.\n",
      "Epoch 6 done in 1.891934871673584 seconds.\n",
      "Epoch 7 done in 1.895000696182251 seconds.\n",
      "Epoch 8 done in 1.8918406963348389 seconds.\n",
      "Epoch 9 done in 1.8953001499176025 seconds.\n",
      "Epoch 10 done in 1.890974998474121 seconds.\n",
      "Epoch 11 done in 1.8937747478485107 seconds.\n",
      "Epoch 12 done in 1.8998191356658936 seconds.\n",
      "Epoch 13 done in 1.9049036502838135 seconds.\n",
      "Epoch 14 done in 1.9015371799468994 seconds.\n",
      "Epoch 15 done in 1.9000346660614014 seconds.\n",
      "Epoch 16 done in 1.9002392292022705 seconds.\n",
      "Epoch 17 done in 1.8937146663665771 seconds.\n",
      "Epoch 18 done in 1.8943438529968262 seconds.\n",
      "Epoch 19 done in 1.8933472633361816 seconds.\n",
      "Epoch 20 done in 1.920060396194458 seconds.\n",
      "Total time taken: 52.277897119522095 seconds\n",
      "Total time per epoch: 2.613894855976105 seconds\n"
     ]
    }
   ],
   "source": [
    "num_epochs = 20\n",
    "\n",
    "start_time = time.time()\n",
    "for epoch in range(num_epochs):\n",
    "    epoch_start = time.time()\n",
    "    for images, labels in loader:\n",
    "        pass\n",
    "    epoch_end = time.time()\n",
    "    epoch_time = epoch_end - epoch_start\n",
    "    print(f\"Epoch {epoch+1} done in {epoch_time} seconds.\")\n",
    "end_time = time.time()\n",
    "\n",
    "total_time = end_time - start_time\n",
    "\n",
    "print(f\"Total time taken: {total_time} seconds\")\n",
    "print(f\"Total time per epoch: {total_time/num_epochs} seconds\")"
   ]
  },
  {
   "cell_type": "code",
   "execution_count": null,
   "id": "a6d26e5e-f439-4346-8180-70e4d32b8f11",
   "metadata": {},
   "outputs": [],
   "source": []
  }
 ],
 "metadata": {
  "kernelspec": {
   "display_name": "Python 3 (ipykernel)",
   "language": "python",
   "name": "python3"
  },
  "language_info": {
   "codemirror_mode": {
    "name": "ipython",
    "version": 3
   },
   "file_extension": ".py",
   "mimetype": "text/x-python",
   "name": "python",
   "nbconvert_exporter": "python",
   "pygments_lexer": "ipython3",
   "version": "3.8.10"
  }
 },
 "nbformat": 4,
 "nbformat_minor": 5
}
