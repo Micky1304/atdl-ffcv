{
 "cells": [
  {
   "cell_type": "markdown",
   "id": "14555eb4-2e0c-45a8-8677-48ee067c3b2e",
   "metadata": {},
   "source": [
    "# Data Preprocessing in GPU environment with FFCV"
   ]
  },
  {
   "cell_type": "code",
   "execution_count": 1,
   "id": "0937b7e4-975a-4e8e-92af-d51fb3569854",
   "metadata": {},
   "outputs": [
    {
     "name": "stderr",
     "output_type": "stream",
     "text": [
      "/usr/local/lib/python3.10/dist-packages/numba/np/ufunc/parallel.py:371: NumbaWarning: The TBB threading layer requires TBB version 2021 update 6 or later i.e., TBB_INTERFACE_VERSION >= 12060. Found TBB_INTERFACE_VERSION = 12050. The TBB threading layer is disabled.\n",
      "  warnings.warn(problem)\n"
     ]
    }
   ],
   "source": [
    "from ffcv.loader import Loader, OrderOption\n",
    "from ffcv.fields.decoders import NDArrayDecoder, FloatDecoder\n",
    "from ffcv.transforms import *\n",
    "import time\n",
    "import os\n",
    "import numpy as np\n",
    "import torch\n",
    "from torchvision import transforms"
   ]
  },
  {
   "cell_type": "code",
   "execution_count": 2,
   "id": "667ee716-f82d-45af-ae33-3efef01fe2dc",
   "metadata": {},
   "outputs": [],
   "source": [
    "device = torch.device('cuda')\n",
    "\n",
    "loader_preprocess = Loader(\"data/train_data.beton\",\n",
    "                batch_size=48,\n",
    "                num_workers=8,\n",
    "                order=OrderOption.RANDOM,\n",
    "                pipelines = { \n",
    "                    \"image\": [\n",
    "                        NDArrayDecoder(),\n",
    "                        ToTensor(),\n",
    "                        ToDevice(torch.device('cuda'), non_blocking=True),\n",
    "                        transforms.RandomVerticalFlip(0.5), \n",
    "                        transforms.RandomHorizontalFlip(0.5),\n",
    "                        transforms.RandomRotation(90),\n",
    "                        transforms.RandomCrop((500, 500)),\n",
    "                    ],\n",
    "                    \"label\": [FloatDecoder(), ToTensor(), ToDevice(torch.device('cuda'), non_blocking=True)]\n",
    "                })"
   ]
  },
  {
   "cell_type": "code",
   "execution_count": 5,
   "id": "2524186d-c734-4139-a94a-ccb545d6aa13",
   "metadata": {},
   "outputs": [
    {
     "name": "stdout",
     "output_type": "stream",
     "text": [
      "Epoch 1 done in 16.555816173553467 seconds.\n",
      "Epoch 2 done in 12.278502941131592 seconds.\n",
      "Epoch 3 done in 13.030890226364136 seconds.\n",
      "Epoch 4 done in 12.333853244781494 seconds.\n",
      "Epoch 5 done in 12.347510814666748 seconds.\n",
      "Epoch 6 done in 12.660207271575928 seconds.\n",
      "Epoch 7 done in 13.23523211479187 seconds.\n",
      "Epoch 8 done in 12.569372653961182 seconds.\n",
      "Epoch 9 done in 13.26018476486206 seconds.\n",
      "Epoch 10 done in 12.18492341041565 seconds.\n",
      "Total time taken: 130.45786833763123 seconds\n",
      "Total time per epoch: 13.045786833763122 seconds\n"
     ]
    }
   ],
   "source": [
    "num_epochs = 10\n",
    "\n",
    "start_time = time.time()\n",
    "for epoch in range(num_epochs):\n",
    "    epoch_start = time.time()\n",
    "    for images, labels in loader_preprocess:\n",
    "        images = images.float() / 255.0\n",
    "        \n",
    "    epoch_end = time.time()\n",
    "    epoch_time = epoch_end - epoch_start\n",
    "    print(f\"Epoch {epoch+1} done in {epoch_time} seconds.\")\n",
    "end_time = time.time()\n",
    "\n",
    "total_time = end_time - start_time\n",
    "\n",
    "print(f\"Total time taken: {total_time} seconds\")\n",
    "print(f\"Total time per epoch: {total_time/num_epochs} seconds\")"
   ]
  },
  {
   "cell_type": "code",
   "execution_count": null,
   "id": "5007379f-a8a6-4d78-a86f-8827d6014387",
   "metadata": {},
   "outputs": [],
   "source": []
  }
 ],
 "metadata": {
  "kernelspec": {
   "display_name": "Python 3 (ipykernel)",
   "language": "python",
   "name": "python3"
  },
  "language_info": {
   "codemirror_mode": {
    "name": "ipython",
    "version": 3
   },
   "file_extension": ".py",
   "mimetype": "text/x-python",
   "name": "python",
   "nbconvert_exporter": "python",
   "pygments_lexer": "ipython3",
   "version": "3.10.12"
  }
 },
 "nbformat": 4,
 "nbformat_minor": 5
}
