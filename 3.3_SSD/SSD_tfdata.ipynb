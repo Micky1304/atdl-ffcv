{
 "cells": [
  {
   "cell_type": "markdown",
   "id": "e4d09a3e-ca72-4286-aba7-a58cf00d0585",
   "metadata": {},
   "source": [
    "# Loading the dataset from SSD storage with tfdata"
   ]
  },
  {
   "cell_type": "code",
   "execution_count": 1,
   "id": "69d9313c-53f6-4ac6-b5ee-071155f046df",
   "metadata": {},
   "outputs": [
    {
     "name": "stdout",
     "output_type": "stream",
     "text": [
      "Defaulting to user installation because normal site-packages is not writeable\n",
      "Requirement already satisfied: tensorflow-cpu in /home/jovyan/.local/lib/python3.10/site-packages (2.15.0.post1)\n",
      "Requirement already satisfied: packaging in /usr/local/lib/python3.10/dist-packages (from tensorflow-cpu) (23.2)\n",
      "Requirement already satisfied: tensorflow-io-gcs-filesystem>=0.23.1 in /home/jovyan/.local/lib/python3.10/site-packages (from tensorflow-cpu) (0.35.0)\n",
      "Requirement already satisfied: absl-py>=1.0.0 in /usr/local/lib/python3.10/dist-packages (from tensorflow-cpu) (2.0.0)\n",
      "Requirement already satisfied: flatbuffers>=23.5.26 in /home/jovyan/.local/lib/python3.10/site-packages (from tensorflow-cpu) (23.5.26)\n",
      "Requirement already satisfied: tensorboard<2.16,>=2.15 in /usr/local/lib/python3.10/dist-packages (from tensorflow-cpu) (2.15.1)\n",
      "Requirement already satisfied: opt-einsum>=2.3.2 in /home/jovyan/.local/lib/python3.10/site-packages (from tensorflow-cpu) (3.3.0)\n",
      "Requirement already satisfied: libclang>=13.0.0 in /home/jovyan/.local/lib/python3.10/site-packages (from tensorflow-cpu) (16.0.6)\n",
      "Requirement already satisfied: grpcio<2.0,>=1.24.3 in /usr/local/lib/python3.10/dist-packages (from tensorflow-cpu) (1.60.0)\n",
      "Requirement already satisfied: keras<2.16,>=2.15.0 in /home/jovyan/.local/lib/python3.10/site-packages (from tensorflow-cpu) (2.15.0)\n",
      "Requirement already satisfied: gast!=0.5.0,!=0.5.1,!=0.5.2,>=0.2.1 in /home/jovyan/.local/lib/python3.10/site-packages (from tensorflow-cpu) (0.5.4)\n",
      "Requirement already satisfied: typing-extensions>=3.6.6 in /usr/local/lib/python3.10/dist-packages (from tensorflow-cpu) (4.4.0)\n",
      "Requirement already satisfied: numpy<2.0.0,>=1.23.5 in /usr/local/lib/python3.10/dist-packages (from tensorflow-cpu) (1.24.1)\n",
      "Requirement already satisfied: tensorflow-estimator<2.16,>=2.15.0 in /home/jovyan/.local/lib/python3.10/site-packages (from tensorflow-cpu) (2.15.0)\n",
      "Requirement already satisfied: google-pasta>=0.1.1 in /home/jovyan/.local/lib/python3.10/site-packages (from tensorflow-cpu) (0.2.0)\n",
      "Requirement already satisfied: wrapt<1.15,>=1.11.0 in /home/jovyan/.local/lib/python3.10/site-packages (from tensorflow-cpu) (1.14.1)\n",
      "Requirement already satisfied: ml-dtypes~=0.2.0 in /home/jovyan/.local/lib/python3.10/site-packages (from tensorflow-cpu) (0.2.0)\n",
      "Requirement already satisfied: protobuf!=4.21.0,!=4.21.1,!=4.21.2,!=4.21.3,!=4.21.4,!=4.21.5,<5.0.0dev,>=3.20.3 in /home/jovyan/.local/lib/python3.10/site-packages (from tensorflow-cpu) (4.23.4)\n",
      "Requirement already satisfied: h5py>=2.9.0 in /usr/local/lib/python3.10/dist-packages (from tensorflow-cpu) (3.10.0)\n",
      "Requirement already satisfied: astunparse>=1.6.0 in /home/jovyan/.local/lib/python3.10/site-packages (from tensorflow-cpu) (1.6.3)\n",
      "Requirement already satisfied: setuptools in /usr/lib/python3/dist-packages (from tensorflow-cpu) (59.6.0)\n",
      "Requirement already satisfied: six>=1.12.0 in /usr/lib/python3/dist-packages (from tensorflow-cpu) (1.16.0)\n",
      "Requirement already satisfied: termcolor>=1.1.0 in /home/jovyan/.local/lib/python3.10/site-packages (from tensorflow-cpu) (2.4.0)\n",
      "Requirement already satisfied: wheel<1.0,>=0.23.0 in /usr/lib/python3/dist-packages (from astunparse>=1.6.0->tensorflow-cpu) (0.37.1)\n",
      "Requirement already satisfied: markdown>=2.6.8 in /usr/local/lib/python3.10/dist-packages (from tensorboard<2.16,>=2.15->tensorflow-cpu) (3.5.1)\n",
      "Requirement already satisfied: werkzeug>=1.0.1 in /usr/local/lib/python3.10/dist-packages (from tensorboard<2.16,>=2.15->tensorflow-cpu) (3.0.1)\n",
      "Requirement already satisfied: google-auth<3,>=1.6.3 in /usr/local/lib/python3.10/dist-packages (from tensorboard<2.16,>=2.15->tensorflow-cpu) (2.25.2)\n",
      "Requirement already satisfied: google-auth-oauthlib<2,>=0.5 in /usr/local/lib/python3.10/dist-packages (from tensorboard<2.16,>=2.15->tensorflow-cpu) (1.2.0)\n",
      "Requirement already satisfied: requests<3,>=2.21.0 in /usr/local/lib/python3.10/dist-packages (from tensorboard<2.16,>=2.15->tensorflow-cpu) (2.31.0)\n",
      "Requirement already satisfied: tensorboard-data-server<0.8.0,>=0.7.0 in /usr/local/lib/python3.10/dist-packages (from tensorboard<2.16,>=2.15->tensorflow-cpu) (0.7.2)\n",
      "Requirement already satisfied: pyasn1-modules>=0.2.1 in /usr/local/lib/python3.10/dist-packages (from google-auth<3,>=1.6.3->tensorboard<2.16,>=2.15->tensorflow-cpu) (0.3.0)\n",
      "Requirement already satisfied: cachetools<6.0,>=2.0.0 in /usr/local/lib/python3.10/dist-packages (from google-auth<3,>=1.6.3->tensorboard<2.16,>=2.15->tensorflow-cpu) (5.3.2)\n",
      "Requirement already satisfied: rsa<5,>=3.1.4 in /usr/local/lib/python3.10/dist-packages (from google-auth<3,>=1.6.3->tensorboard<2.16,>=2.15->tensorflow-cpu) (4.9)\n",
      "Requirement already satisfied: requests-oauthlib>=0.7.0 in /usr/local/lib/python3.10/dist-packages (from google-auth-oauthlib<2,>=0.5->tensorboard<2.16,>=2.15->tensorflow-cpu) (1.3.1)\n",
      "Requirement already satisfied: certifi>=2017.4.17 in /usr/local/lib/python3.10/dist-packages (from requests<3,>=2.21.0->tensorboard<2.16,>=2.15->tensorflow-cpu) (2022.12.7)\n",
      "Requirement already satisfied: urllib3<3,>=1.21.1 in /usr/local/lib/python3.10/dist-packages (from requests<3,>=2.21.0->tensorboard<2.16,>=2.15->tensorflow-cpu) (1.26.13)\n",
      "Requirement already satisfied: charset-normalizer<4,>=2 in /usr/local/lib/python3.10/dist-packages (from requests<3,>=2.21.0->tensorboard<2.16,>=2.15->tensorflow-cpu) (2.1.1)\n",
      "Requirement already satisfied: idna<4,>=2.5 in /usr/local/lib/python3.10/dist-packages (from requests<3,>=2.21.0->tensorboard<2.16,>=2.15->tensorflow-cpu) (3.4)\n",
      "Requirement already satisfied: MarkupSafe>=2.1.1 in /usr/local/lib/python3.10/dist-packages (from werkzeug>=1.0.1->tensorboard<2.16,>=2.15->tensorflow-cpu) (2.1.2)\n",
      "Requirement already satisfied: pyasn1<0.6.0,>=0.4.6 in /usr/local/lib/python3.10/dist-packages (from pyasn1-modules>=0.2.1->google-auth<3,>=1.6.3->tensorboard<2.16,>=2.15->tensorflow-cpu) (0.5.1)\n",
      "Requirement already satisfied: oauthlib>=3.0.0 in /usr/lib/python3/dist-packages (from requests-oauthlib>=0.7.0->google-auth-oauthlib<2,>=0.5->tensorboard<2.16,>=2.15->tensorflow-cpu) (3.2.0)\n"
     ]
    },
    {
     "name": "stderr",
     "output_type": "stream",
     "text": [
      "2024-01-19 13:05:01.410493: I tensorflow/core/platform/cpu_feature_guard.cc:182] This TensorFlow binary is optimized to use available CPU instructions in performance-critical operations.\n",
      "To enable the following instructions: AVX2 FMA, in other operations, rebuild TensorFlow with the appropriate compiler flags.\n"
     ]
    }
   ],
   "source": [
    "!pip install tensorflow-cpu\n",
    "import tensorflow as tf\n",
    "import numpy as np\n",
    "import os\n",
    "import time\n",
    "import matplotlib.pyplot as plt"
   ]
  },
  {
   "cell_type": "code",
   "execution_count": 2,
   "id": "4412ae1e-82d6-4242-95d3-f8a83e3f561a",
   "metadata": {},
   "outputs": [],
   "source": [
    "data_dir = \"../ssd/train_small_npy\"\n",
    "\n",
    "labels_dict = np.load(os.path.join(data_dir, \"labels.npy\"), allow_pickle = True).item()\n",
    "local_paths = list(labels_dict.keys())\n",
    "global_paths = [os.path.join(data_dir, local_path) for local_path in local_paths]\n",
    "labels = list(labels_dict.values())\n",
    "\n",
    "dataset = tf.data.Dataset.from_tensor_slices((global_paths, labels))"
   ]
  },
  {
   "cell_type": "code",
   "execution_count": 3,
   "id": "835318dc-e821-42f4-a825-07f91b26aeda",
   "metadata": {},
   "outputs": [],
   "source": [
    "def load_data(image_path, label):\n",
    "    def load_np_file(path):\n",
    "        return np.load(path.decode(\"utf-8\"))\n",
    "\n",
    "    image = image = tf.numpy_function(load_np_file, [image_path], tf.uint8)\n",
    "    return image, label\n",
    "\n",
    "dataset = dataset.map(load_data, num_parallel_calls=8)\n",
    "batch_size = 48"
   ]
  },
  {
   "cell_type": "code",
   "execution_count": 4,
   "id": "16e47470-c3fb-4b50-90d1-9ecfcd6b1d8f",
   "metadata": {},
   "outputs": [
    {
     "name": "stderr",
     "output_type": "stream",
     "text": [
      "2024-01-19 13:05:03.368527: W external/local_tsl/tsl/framework/cpu_allocator_impl.cc:83] Allocation of 345600000 exceeds 10% of free system memory.\n",
      "2024-01-19 13:05:03.566459: W external/local_tsl/tsl/framework/cpu_allocator_impl.cc:83] Allocation of 345600000 exceeds 10% of free system memory.\n",
      "2024-01-19 13:05:03.681575: W external/local_tsl/tsl/framework/cpu_allocator_impl.cc:83] Allocation of 345600000 exceeds 10% of free system memory.\n",
      "2024-01-19 13:05:03.811249: W external/local_tsl/tsl/framework/cpu_allocator_impl.cc:83] Allocation of 345600000 exceeds 10% of free system memory.\n",
      "2024-01-19 13:05:03.949969: W external/local_tsl/tsl/framework/cpu_allocator_impl.cc:83] Allocation of 345600000 exceeds 10% of free system memory.\n"
     ]
    },
    {
     "name": "stdout",
     "output_type": "stream",
     "text": [
      "Epoch 1 done in 8.745347261428833 seconds.\n",
      "Epoch 2 done in 3.750429630279541 seconds.\n",
      "Epoch 3 done in 3.879117250442505 seconds.\n",
      "Epoch 4 done in 3.8402698040008545 seconds.\n",
      "Epoch 5 done in 3.7297167778015137 seconds.\n",
      "Epoch 6 done in 3.8021466732025146 seconds.\n",
      "Epoch 7 done in 3.8750362396240234 seconds.\n",
      "Epoch 8 done in 4.030210018157959 seconds.\n",
      "Epoch 9 done in 3.7089996337890625 seconds.\n",
      "Epoch 10 done in 3.6857492923736572 seconds.\n",
      "Epoch 11 done in 3.786292791366577 seconds.\n",
      "Epoch 12 done in 3.77272367477417 seconds.\n",
      "Epoch 13 done in 3.7970094680786133 seconds.\n",
      "Epoch 14 done in 3.825350284576416 seconds.\n",
      "Epoch 15 done in 3.8579699993133545 seconds.\n",
      "Epoch 16 done in 3.714339256286621 seconds.\n",
      "Epoch 17 done in 3.9939968585968018 seconds.\n",
      "Epoch 18 done in 4.0434181690216064 seconds.\n",
      "Epoch 19 done in 3.9814507961273193 seconds.\n",
      "Epoch 20 done in 3.7991955280303955 seconds.\n",
      "Total time taken: 81.62095904350281 seconds\n",
      "Total time per epoch: 4.08104795217514 seconds\n"
     ]
    }
   ],
   "source": [
    "num_epochs = 20\n",
    "\n",
    "start_time = time.time()\n",
    "for epoch in range(num_epochs):\n",
    "    epoch_start = time.time()\n",
    "    for images, labels in dataset.batch(batch_size).as_numpy_iterator():\n",
    "        pass\n",
    "    epoch_end = time.time()\n",
    "    epoch_time = epoch_end - epoch_start\n",
    "    print(f\"Epoch {epoch+1} done in {epoch_time} seconds.\")\n",
    "end_time = time.time()\n",
    "\n",
    "total_time = end_time - start_time\n",
    "\n",
    "print(f\"Total time taken: {total_time} seconds\")\n",
    "print(f\"Total time per epoch: {total_time/num_epochs} seconds\")"
   ]
  }
 ],
 "metadata": {
  "kernelspec": {
   "display_name": "Python 3 (ipykernel)",
   "language": "python",
   "name": "python3"
  },
  "language_info": {
   "codemirror_mode": {
    "name": "ipython",
    "version": 3
   },
   "file_extension": ".py",
   "mimetype": "text/x-python",
   "name": "python",
   "nbconvert_exporter": "python",
   "pygments_lexer": "ipython3",
   "version": "3.10.12"
  }
 },
 "nbformat": 4,
 "nbformat_minor": 5
}
