{
 "cells": [
  {
   "cell_type": "markdown",
   "id": "e4d09a3e-ca72-4286-aba7-a58cf00d0585",
   "metadata": {},
   "source": [
    "# End-to-end training in CPU environment with tfdata"
   ]
  },
  {
   "cell_type": "code",
   "execution_count": 1,
   "id": "69d9313c-53f6-4ac6-b5ee-071155f046df",
   "metadata": {},
   "outputs": [
    {
     "name": "stderr",
     "output_type": "stream",
     "text": [
      "2024-01-05 12:35:46.830866: I tensorflow/core/platform/cpu_feature_guard.cc:182] This TensorFlow binary is optimized to use available CPU instructions in performance-critical operations.\n",
      "To enable the following instructions: AVX2 FMA, in other operations, rebuild TensorFlow with the appropriate compiler flags.\n"
     ]
    }
   ],
   "source": [
    "import tensorflow as tf\n",
    "import numpy as np\n",
    "import os\n",
    "import time\n",
    "import matplotlib.pyplot as plt\n",
    "from tensorflow.keras.layers import Input, RandomFlip, RandomRotation, RandomCrop\n",
    "from tensorflow.keras.models import Model"
   ]
  },
  {
   "cell_type": "code",
   "execution_count": 2,
   "id": "4f02fa14-9347-4eb0-b3fb-a15c601f4489",
   "metadata": {},
   "outputs": [],
   "source": [
    "data_dir = \"data/train_small_npy\"\n",
    "\n",
    "labels_dict = np.load(os.path.join(data_dir, \"labels.npy\"), allow_pickle = True).item()\n",
    "local_paths = list(labels_dict.keys())\n",
    "global_paths = [os.path.join(data_dir, local_path) for local_path in local_paths]\n",
    "labels = list(labels_dict.values())\n",
    "\n",
    "dataset = tf.data.Dataset.from_tensor_slices((global_paths, labels))\n",
    "\n",
    "def load_data(image_path, label):\n",
    "    def load_np_file(path):\n",
    "        return np.load(path.decode(\"utf-8\"))\n",
    "\n",
    "    image = image = tf.numpy_function(load_np_file, [image_path], tf.uint8)\n",
    "    return image, label\n",
    "\n",
    "dataset = dataset.map(load_data, num_parallel_calls=8)"
   ]
  },
  {
   "cell_type": "code",
   "execution_count": 4,
   "id": "272e5baa-5ac7-449f-a747-454394ef786a",
   "metadata": {},
   "outputs": [],
   "source": [
    "class MLModel(tf.keras.Model):\n",
    "    def __init__(self):\n",
    "        super(MLModel, self).__init__()\n",
    "        self.conv1 = tf.keras.layers.Conv2D(16, (3, 3), strides=(1, 1), padding='same', activation='relu', input_shape=(3, 500, 500))\n",
    "        self.pool1 = tf.keras.layers.MaxPooling2D((2, 2), strides=(2, 2))\n",
    "        self.conv2 = tf.keras.layers.Conv2D(32, (3, 3), strides=(1, 1), padding='same', activation='relu')\n",
    "        self.pool2 = tf.keras.layers.MaxPooling2D((2, 2), strides=(2, 2))\n",
    "        self.flatten = tf.keras.layers.Flatten()\n",
    "        self.fc1 = tf.keras.layers.Dense(200, activation='relu')\n",
    "        self.fc2 = tf.keras.layers.Dense(1)\n",
    "\n",
    "    def call(self, x):\n",
    "        x = self.conv1(x)\n",
    "        x = self.pool1(x)\n",
    "        x = self.conv2(x)\n",
    "        x = self.pool2(x)\n",
    "        x = self.flatten(x)\n",
    "        x = self.fc1(x)\n",
    "        x = self.fc2(x)\n",
    "        return x\n",
    "\n",
    "mlmodel = MLModel()\n",
    "\n",
    "criterion = tf.keras.losses.MeanSquaredError()\n",
    "optimizer = tf.optimizers.Adam(learning_rate=0.001)"
   ]
  },
  {
   "cell_type": "code",
   "execution_count": 5,
   "id": "71bfcb81-279d-48a6-883d-cda71e8dd716",
   "metadata": {},
   "outputs": [
    {
     "name": "stdout",
     "output_type": "stream",
     "text": [
      "Epoch 1 done in 469.6996729373932 seconds.\n",
      "Epoch 2 done in 455.69856905937195 seconds.\n",
      "Epoch 3 done in 455.5163300037384 seconds.\n",
      "Epoch 4 done in 484.2993869781494 seconds.\n",
      "Epoch 5 done in 462.66717076301575 seconds.\n",
      "Epoch 6 done in 572.1970403194427 seconds.\n",
      "Epoch 7 done in 501.33690428733826 seconds.\n",
      "Epoch 8 done in 507.70059871673584 seconds.\n",
      "Epoch 9 done in 509.2733688354492 seconds.\n",
      "Epoch 10 done in 524.6082739830017 seconds.\n",
      "Total time taken: 4942.998977899551 seconds\n",
      "Total time per epoch: 494.29989778995514 seconds\n"
     ]
    }
   ],
   "source": [
    "num_epochs = 10\n",
    "batch_size = 48\n",
    "\n",
    "input_layer = Input(shape=(1200, 2000, 3), dtype=tf.float32)\n",
    "x = RandomFlip(\"horizontal_and_vertical\")(input_layer)\n",
    "x = RandomRotation(factor=0.25, fill_mode=\"constant\", fill_value = 0)(x)\n",
    "x = RandomCrop(500, 500)(x)\n",
    "\n",
    "data_augmentation_model = Model(inputs=input_layer, outputs=x)\n",
    "\n",
    "def custom_transform_data(image, label):\n",
    "    image = tf.transpose(image, perm=[1, 2, 0])\n",
    "    image = data_augmentation_model(image)\n",
    "    image = tf.cast(image, dtype=tf.float32) / 255.0\n",
    "    image = tf.transpose(image, perm=[2, 0, 1])\n",
    "    return image, label\n",
    "\n",
    "transformed_dataset = dataset.map(custom_transform_data)\n",
    "\n",
    "start_time = time.time()\n",
    "for epoch in range(num_epochs):\n",
    "    epoch_start = time.time()\n",
    "    for images, labels in transformed_dataset.batch(batch_size).as_numpy_iterator():\n",
    "        with tf.GradientTape() as tape:\n",
    "            outputs = mlmodel(images)\n",
    "            labels = tf.convert_to_tensor(labels.reshape(-1, 1), dtype=tf.float32)\n",
    "            loss = criterion(labels, outputs)\n",
    "        \n",
    "        gradients = tape.gradient(loss, mlmodel.trainable_variables)\n",
    "        optimizer.apply_gradients(zip(gradients, mlmodel.trainable_variables))\n",
    "    epoch_end = time.time()\n",
    "    epoch_time = epoch_end - epoch_start\n",
    "    print(f\"Epoch {epoch+1} done in {epoch_time} seconds.\")\n",
    "end_time = time.time()\n",
    "\n",
    "total_time = end_time - start_time\n",
    "\n",
    "print(f\"Total time taken: {total_time} seconds\")\n",
    "print(f\"Total time per epoch: {total_time/num_epochs} seconds\")"
   ]
  },
  {
   "cell_type": "code",
   "execution_count": null,
   "id": "7aa24cb8-597d-4220-9241-c3d8430c2fdc",
   "metadata": {},
   "outputs": [],
   "source": []
  }
 ],
 "metadata": {
  "kernelspec": {
   "display_name": "Python 3 (ipykernel)",
   "language": "python",
   "name": "python3"
  },
  "language_info": {
   "codemirror_mode": {
    "name": "ipython",
    "version": 3
   },
   "file_extension": ".py",
   "mimetype": "text/x-python",
   "name": "python",
   "nbconvert_exporter": "python",
   "pygments_lexer": "ipython3",
   "version": "3.10.12"
  }
 },
 "nbformat": 4,
 "nbformat_minor": 5
}
