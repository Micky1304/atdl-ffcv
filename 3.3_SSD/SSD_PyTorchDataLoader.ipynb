{
 "cells": [
  {
   "cell_type": "markdown",
   "id": "c3916d99-d05f-442b-8b05-f06bf6c84fb6",
   "metadata": {},
   "source": [
    "# Loading the dataset from SSD storage with PyTorch"
   ]
  },
  {
   "cell_type": "code",
   "execution_count": 1,
   "id": "24d70b37-695e-4ad6-b1ee-53ac1435b09d",
   "metadata": {},
   "outputs": [],
   "source": [
    "import os\n",
    "import numpy as np\n",
    "from torch.utils.data import Dataset, DataLoader\n",
    "import time\n",
    "import matplotlib.pyplot as plt\n",
    "import torch\n",
    "\n",
    "class CustomDataset(Dataset):\n",
    "    def __init__(self, data_dir):\n",
    "        self.data_dir = data_dir\n",
    "        self.file_list = [f for f in os.listdir(data_dir) if f.startswith(\"part_\")]\n",
    "        self.labels = np.load(os.path.join(data_dir, \"labels.npy\"), allow_pickle = True).item()\n",
    "        \n",
    "    def __len__(self):\n",
    "        return len(self.file_list)\n",
    "\n",
    "    def __getitem__(self, idx):\n",
    "        file_path = os.path.join(self.data_dir, self.file_list[idx])\n",
    "        image = np.load(file_path)\n",
    "        label = self.labels[self.file_list[idx]]\n",
    "        return image, label\n",
    "\n",
    "data_dir = \"../ssd/train_small_npy\"\n",
    "dataset = CustomDataset(data_dir)\n",
    "dataloader = DataLoader(dataset, batch_size=48, shuffle=True, num_workers=8)"
   ]
  },
  {
   "cell_type": "code",
   "execution_count": 2,
   "id": "9669a04e-3d86-4c69-867a-969c547532de",
   "metadata": {},
   "outputs": [
    {
     "name": "stdout",
     "output_type": "stream",
     "text": [
      "Epoch 1 done in 10.535576820373535 seconds.\n",
      "Epoch 2 done in 3.601100444793701 seconds.\n",
      "Epoch 3 done in 2.8007662296295166 seconds.\n",
      "Epoch 4 done in 2.839632749557495 seconds.\n",
      "Epoch 5 done in 2.670599937438965 seconds.\n",
      "Epoch 6 done in 2.767557382583618 seconds.\n",
      "Epoch 7 done in 2.7281041145324707 seconds.\n",
      "Epoch 8 done in 2.665832042694092 seconds.\n",
      "Epoch 9 done in 2.6919002532958984 seconds.\n",
      "Epoch 10 done in 2.667180299758911 seconds.\n",
      "Epoch 11 done in 2.7216289043426514 seconds.\n",
      "Epoch 12 done in 2.853832244873047 seconds.\n",
      "Epoch 13 done in 2.766788959503174 seconds.\n",
      "Epoch 14 done in 2.6766817569732666 seconds.\n",
      "Epoch 15 done in 2.7184154987335205 seconds.\n",
      "Epoch 16 done in 2.600506067276001 seconds.\n",
      "Epoch 17 done in 2.7290151119232178 seconds.\n",
      "Epoch 18 done in 2.7595887184143066 seconds.\n",
      "Epoch 19 done in 2.692464590072632 seconds.\n",
      "Epoch 20 done in 2.783524513244629 seconds.\n",
      "Total time taken: 63.27466058731079 seconds\n",
      "Total time per epoch: 3.1637330293655395 seconds\n"
     ]
    }
   ],
   "source": [
    "num_epochs = 20\n",
    "\n",
    "start_time = time.time()\n",
    "for epoch in range(num_epochs):\n",
    "    epoch_start = time.time()\n",
    "    for images, labels in dataloader:\n",
    "        images = images.numpy()\n",
    "        labels = labels.numpy()\n",
    "        pass\n",
    "    epoch_end = time.time()\n",
    "    epoch_time = epoch_end - epoch_start\n",
    "    print(f\"Epoch {epoch+1} done in {epoch_time} seconds.\")\n",
    "end_time = time.time()\n",
    "\n",
    "total_time = end_time - start_time\n",
    "\n",
    "print(f\"Total time taken: {total_time} seconds\")\n",
    "print(f\"Total time per epoch: {total_time/num_epochs} seconds\")"
   ]
  },
  {
   "cell_type": "code",
   "execution_count": null,
   "id": "222edb32-9377-4633-a440-395fe8bef138",
   "metadata": {},
   "outputs": [],
   "source": []
  }
 ],
 "metadata": {
  "kernelspec": {
   "display_name": "Python 3 (ipykernel)",
   "language": "python",
   "name": "python3"
  },
  "language_info": {
   "codemirror_mode": {
    "name": "ipython",
    "version": 3
   },
   "file_extension": ".py",
   "mimetype": "text/x-python",
   "name": "python",
   "nbconvert_exporter": "python",
   "pygments_lexer": "ipython3",
   "version": "3.10.12"
  }
 },
 "nbformat": 4,
 "nbformat_minor": 5
}
