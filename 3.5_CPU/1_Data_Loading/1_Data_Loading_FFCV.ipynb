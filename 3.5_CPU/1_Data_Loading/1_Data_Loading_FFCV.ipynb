{
 "cells": [
  {
   "cell_type": "markdown",
   "id": "14555eb4-2e0c-45a8-8677-48ee067c3b2e",
   "metadata": {},
   "source": [
    "# Data Loading in CPU environment with FFCV"
   ]
  },
  {
   "cell_type": "code",
   "execution_count": 1,
   "id": "0937b7e4-975a-4e8e-92af-d51fb3569854",
   "metadata": {},
   "outputs": [
    {
     "name": "stderr",
     "output_type": "stream",
     "text": [
      "/usr/local/lib/python3.10/dist-packages/numba/np/ufunc/parallel.py:371: NumbaWarning: The TBB threading layer requires TBB version 2021 update 6 or later i.e., TBB_INTERFACE_VERSION >= 12060. Found TBB_INTERFACE_VERSION = 12050. The TBB threading layer is disabled.\n",
      "  warnings.warn(problem)\n"
     ]
    }
   ],
   "source": [
    "from ffcv.loader import Loader, OrderOption\n",
    "from ffcv.fields.decoders import NDArrayDecoder, FloatDecoder\n",
    "from ffcv.transforms import ToTensor\n",
    "import time\n",
    "import os\n",
    "import numpy as np"
   ]
  },
  {
   "cell_type": "code",
   "execution_count": 2,
   "id": "1924b1e6-606b-49fb-a24b-6558a0325b88",
   "metadata": {},
   "outputs": [],
   "source": [
    "loader = Loader(\"data/train_data.beton\",\n",
    "                batch_size=48,\n",
    "                num_workers=8,\n",
    "                order=OrderOption.RANDOM,\n",
    "                os_cache=True,\n",
    "                pipelines = { \n",
    "                    \"image\": [NDArrayDecoder(), ToTensor()],\n",
    "                    \"label\": [FloatDecoder(), ToTensor()]\n",
    "                })"
   ]
  },
  {
   "cell_type": "code",
   "execution_count": 3,
   "id": "71e6c108-f293-4218-9f7e-882bb3419acf",
   "metadata": {},
   "outputs": [
    {
     "name": "stdout",
     "output_type": "stream",
     "text": [
      "Epoch 1 done in 131.69680547714233 seconds.\n",
      "Epoch 2 done in 2.1754491329193115 seconds.\n",
      "Epoch 3 done in 2.176996946334839 seconds.\n",
      "Epoch 4 done in 2.1716232299804688 seconds.\n",
      "Epoch 5 done in 2.172194480895996 seconds.\n",
      "Epoch 6 done in 2.1658804416656494 seconds.\n",
      "Epoch 7 done in 2.1815292835235596 seconds.\n",
      "Epoch 8 done in 2.176659345626831 seconds.\n",
      "Epoch 9 done in 2.174011707305908 seconds.\n",
      "Epoch 10 done in 2.165081262588501 seconds.\n",
      "Epoch 11 done in 2.1699020862579346 seconds.\n",
      "Epoch 12 done in 2.122988224029541 seconds.\n",
      "Epoch 13 done in 2.171973466873169 seconds.\n",
      "Epoch 14 done in 2.1224732398986816 seconds.\n",
      "Epoch 15 done in 2.163543939590454 seconds.\n",
      "Epoch 16 done in 2.1234636306762695 seconds.\n",
      "Epoch 17 done in 2.128175973892212 seconds.\n",
      "Epoch 18 done in 2.12034010887146 seconds.\n",
      "Epoch 19 done in 2.117750644683838 seconds.\n",
      "Epoch 20 done in 2.155998945236206 seconds.\n",
      "Total time taken: 172.6552391052246 seconds\n",
      "Total time per epoch: 8.63276195526123 seconds\n"
     ]
    }
   ],
   "source": [
    "num_epochs = 20\n",
    "\n",
    "start_time = time.time()\n",
    "for epoch in range(num_epochs):\n",
    "    epoch_start = time.time()\n",
    "    for images, labels in loader:\n",
    "        pass\n",
    "    epoch_end = time.time()\n",
    "    epoch_time = epoch_end - epoch_start\n",
    "    print(f\"Epoch {epoch+1} done in {epoch_time} seconds.\")\n",
    "end_time = time.time()\n",
    "\n",
    "total_time = end_time - start_time\n",
    "\n",
    "print(f\"Total time taken: {total_time} seconds\")\n",
    "print(f\"Total time per epoch: {total_time/num_epochs} seconds\")"
   ]
  },
  {
   "cell_type": "code",
   "execution_count": null,
   "id": "a6d26e5e-f439-4346-8180-70e4d32b8f11",
   "metadata": {},
   "outputs": [],
   "source": []
  }
 ],
 "metadata": {
  "kernelspec": {
   "display_name": "Python 3 (ipykernel)",
   "language": "python",
   "name": "python3"
  },
  "language_info": {
   "codemirror_mode": {
    "name": "ipython",
    "version": 3
   },
   "file_extension": ".py",
   "mimetype": "text/x-python",
   "name": "python",
   "nbconvert_exporter": "python",
   "pygments_lexer": "ipython3",
   "version": "3.10.12"
  }
 },
 "nbformat": 4,
 "nbformat_minor": 5
}
