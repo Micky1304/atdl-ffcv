{
 "cells": [
  {
   "cell_type": "markdown",
   "id": "14555eb4-2e0c-45a8-8677-48ee067c3b2e",
   "metadata": {},
   "source": [
    "# End-to-end training in GPU environment with FFCV"
   ]
  },
  {
   "cell_type": "code",
   "execution_count": 1,
   "id": "0937b7e4-975a-4e8e-92af-d51fb3569854",
   "metadata": {},
   "outputs": [
    {
     "name": "stderr",
     "output_type": "stream",
     "text": [
      "/usr/local/lib/python3.10/dist-packages/numba/np/ufunc/parallel.py:371: NumbaWarning: The TBB threading layer requires TBB version 2021 update 6 or later i.e., TBB_INTERFACE_VERSION >= 12060. Found TBB_INTERFACE_VERSION = 12050. The TBB threading layer is disabled.\n",
      "  warnings.warn(problem)\n"
     ]
    }
   ],
   "source": [
    "from ffcv.loader import Loader, OrderOption\n",
    "from ffcv.fields.decoders import NDArrayDecoder, FloatDecoder\n",
    "from ffcv.transforms import ToTensor, ToDevice\n",
    "import time\n",
    "import os\n",
    "import numpy as np\n",
    "import torch\n",
    "from torchvision import transforms\n",
    "import torch.nn as nn\n",
    "import torch.nn.functional as F\n",
    "device = 'cuda'"
   ]
  },
  {
   "cell_type": "code",
   "execution_count": 2,
   "id": "896702b5-39d4-4739-9640-cd09a418ff26",
   "metadata": {},
   "outputs": [],
   "source": [
    "class Model(nn.Module):\n",
    "    def __init__(self):\n",
    "        super(Model, self).__init__()\n",
    "        self.conv1 = nn.Conv2d(3, 16, kernel_size=3, stride=1, padding=1)\n",
    "        self.pool1 = nn.MaxPool2d(kernel_size=2, stride=2)\n",
    "        self.conv2 = nn.Conv2d(16, 32, kernel_size=3, stride=1, padding=1)\n",
    "        self.pool2 = nn.MaxPool2d(kernel_size=2, stride=2)\n",
    "        self.fc1 = nn.Linear(32 * 125 * 125, 200)\n",
    "        self.fc2 = nn.Linear(200, 1)\n",
    "\n",
    "    def forward(self, x):\n",
    "        x = F.relu(self.conv1(x))\n",
    "        x = self.pool1(x)\n",
    "        x = F.relu(self.conv2(x))\n",
    "        x = self.pool2(x)\n",
    "        x = x.view(-1, 32 * 125 * 125)\n",
    "        x = F.relu(self.fc1(x))\n",
    "        x = self.fc2(x)\n",
    "        return x\n",
    "\n",
    "model = Model()\n",
    "model = model.to(device)\n",
    "\n",
    "criterion = nn.MSELoss()\n",
    "optimizer = torch.optim.Adam(model.parameters(), lr=0.005)"
   ]
  },
  {
   "cell_type": "code",
   "execution_count": 3,
   "id": "667ee716-f82d-45af-ae33-3efef01fe2dc",
   "metadata": {},
   "outputs": [],
   "source": [
    "loader_preprocess = Loader(\"data/train_data.beton\",\n",
    "                batch_size=48,\n",
    "                num_workers=8,\n",
    "                order=OrderOption.RANDOM, #Truely random shuffle\n",
    "                pipelines = { \n",
    "                    \"image\": [\n",
    "                        NDArrayDecoder(), \n",
    "                        ToTensor(),\n",
    "                        ToDevice(torch.device(device), non_blocking=True),\n",
    "                        transforms.RandomVerticalFlip(0.5), \n",
    "                        transforms.RandomHorizontalFlip(0.5),\n",
    "                        transforms.RandomRotation(90),\n",
    "                        transforms.RandomCrop((500, 500)),\n",
    "                    ],\n",
    "                    \"label\": [FloatDecoder(), ToTensor(), ToDevice(torch.device(device), non_blocking=True),]\n",
    "                })"
   ]
  },
  {
   "cell_type": "code",
   "execution_count": 4,
   "id": "1f2a44cc-ab28-4a61-a23b-8093fec6ca81",
   "metadata": {},
   "outputs": [
    {
     "name": "stdout",
     "output_type": "stream",
     "text": [
      "Epoch 1 done in 20.68252992630005 seconds.\n",
      "Epoch 2 done in 15.581626653671265 seconds.\n",
      "Epoch 3 done in 14.77998161315918 seconds.\n",
      "Epoch 4 done in 15.00122618675232 seconds.\n",
      "Epoch 5 done in 15.144744634628296 seconds.\n",
      "Epoch 6 done in 15.31307339668274 seconds.\n",
      "Epoch 7 done in 15.636549949645996 seconds.\n",
      "Epoch 8 done in 15.72204041481018 seconds.\n",
      "Epoch 9 done in 15.008957147598267 seconds.\n",
      "Epoch 10 done in 15.26915693283081 seconds.\n",
      "Total time taken: 158.14104866981506 seconds\n",
      "Total time per epoch: 15.814104866981506 seconds\n"
     ]
    }
   ],
   "source": [
    "num_epochs = 10\n",
    "\n",
    "start_time = time.time()\n",
    "for epoch in range(num_epochs):\n",
    "    epoch_start = time.time()\n",
    "    for images, labels in loader_preprocess:\n",
    "        images = images.float() / 255.0\n",
    "        \n",
    "        outputs = model(images)\n",
    "        labels = labels.view(-1, 1).float()\n",
    "        loss = criterion(outputs, labels)\n",
    "\n",
    "        optimizer.zero_grad()\n",
    "        loss.backward()\n",
    "        optimizer.step()\n",
    "        \n",
    "    epoch_end = time.time()\n",
    "    epoch_time = epoch_end - epoch_start\n",
    "    print(f\"Epoch {epoch+1} done in {epoch_time} seconds.\")\n",
    "end_time = time.time()\n",
    "\n",
    "total_time = end_time - start_time\n",
    "\n",
    "print(f\"Total time taken: {total_time} seconds\")\n",
    "print(f\"Total time per epoch: {total_time/num_epochs} seconds\")"
   ]
  }
 ],
 "metadata": {
  "kernelspec": {
   "display_name": "Python 3 (ipykernel)",
   "language": "python",
   "name": "python3"
  },
  "language_info": {
   "codemirror_mode": {
    "name": "ipython",
    "version": 3
   },
   "file_extension": ".py",
   "mimetype": "text/x-python",
   "name": "python",
   "nbconvert_exporter": "python",
   "pygments_lexer": "ipython3",
   "version": "3.10.12"
  }
 },
 "nbformat": 4,
 "nbformat_minor": 5
}
