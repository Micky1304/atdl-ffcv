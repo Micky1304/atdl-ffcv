{
 "cells": [
  {
   "cell_type": "markdown",
   "id": "e4b823aa-6eed-48c2-a1d1-fcda131b6417",
   "metadata": {},
   "source": [
    "# Preprocessing in CPU environment with PyTorch"
   ]
  },
  {
   "cell_type": "code",
   "execution_count": 1,
   "id": "b1b5347d-0654-4cb4-8cad-6dd4bc310cba",
   "metadata": {},
   "outputs": [
    {
     "name": "stdout",
     "output_type": "stream",
     "text": [
      "Epoch 1 done in 285.60568165779114 seconds.\n",
      "Epoch 2 done in 251.79779887199402 seconds.\n",
      "Epoch 3 done in 242.05861067771912 seconds.\n",
      "Epoch 4 done in 260.11944103240967 seconds.\n",
      "Epoch 5 done in 243.05597758293152 seconds.\n",
      "Epoch 6 done in 234.65044236183167 seconds.\n",
      "Epoch 7 done in 250.83137035369873 seconds.\n",
      "Epoch 8 done in 245.9380533695221 seconds.\n",
      "Epoch 9 done in 247.9998722076416 seconds.\n",
      "Epoch 10 done in 246.38864469528198 seconds.\n",
      "Total time taken: 2508.447569131851 seconds\n",
      "Total time per epoch: 250.8447569131851 seconds\n"
     ]
    }
   ],
   "source": [
    "import os\n",
    "import numpy as np\n",
    "from torch.utils.data import Dataset, DataLoader\n",
    "import time\n",
    "import matplotlib.pyplot as plt\n",
    "import torch\n",
    "from torchvision import transforms\n",
    "\n",
    "class CustomDataset(Dataset):\n",
    "    def __init__(self, data_dir):\n",
    "        self.data_dir = data_dir\n",
    "        self.file_list = [f for f in os.listdir(data_dir) if f.startswith(\"part_\")]\n",
    "        self.labels = np.load(os.path.join(data_dir, \"labels.npy\"), allow_pickle = True).item()\n",
    "        \n",
    "    def __len__(self):\n",
    "        return len(self.file_list)\n",
    "\n",
    "    def __getitem__(self, idx):\n",
    "        file_path = os.path.join(self.data_dir, self.file_list[idx])\n",
    "        image = np.load(file_path)\n",
    "        label = self.labels[self.file_list[idx]]\n",
    "        return image, label\n",
    "\n",
    "data_dir = \"data/train_small_npy\"\n",
    "\n",
    "dataset = CustomDataset(data_dir)\n",
    "dataloader = DataLoader(dataset, batch_size=48, shuffle=True, num_workers=8)\n",
    "\n",
    "num_epochs = 10\n",
    "\n",
    "custom_transform = transforms.Compose([\n",
    "    transforms.RandomVerticalFlip(0.5),\n",
    "    transforms.RandomHorizontalFlip(0.5),\n",
    "    transforms.RandomRotation(90),\n",
    "    transforms.RandomCrop((500, 500))\n",
    "])\n",
    "\n",
    "start_time = time.time()\n",
    "for epoch in range(num_epochs):\n",
    "    epoch_start = time.time()\n",
    "    for images, labels in dataloader:   \n",
    "        transformed_images = torch.stack([custom_transform(image)/255.0 for image in images])\n",
    "        \n",
    "    epoch_end = time.time()\n",
    "    epoch_time = epoch_end - epoch_start\n",
    "    print(f\"Epoch {epoch+1} done in {epoch_time} seconds.\")\n",
    "end_time = time.time()\n",
    "\n",
    "total_time = end_time - start_time\n",
    "\n",
    "print(f\"Total time taken: {total_time} seconds\")\n",
    "print(f\"Total time per epoch: {total_time/num_epochs} seconds\")"
   ]
  }
 ],
 "metadata": {
  "kernelspec": {
   "display_name": "Python 3 (ipykernel)",
   "language": "python",
   "name": "python3"
  },
  "language_info": {
   "codemirror_mode": {
    "name": "ipython",
    "version": 3
   },
   "file_extension": ".py",
   "mimetype": "text/x-python",
   "name": "python",
   "nbconvert_exporter": "python",
   "pygments_lexer": "ipython3",
   "version": "3.8.10"
  }
 },
 "nbformat": 4,
 "nbformat_minor": 5
}
