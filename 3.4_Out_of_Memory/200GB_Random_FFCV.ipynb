{
 "cells": [
  {
   "cell_type": "markdown",
   "id": "14555eb4-2e0c-45a8-8677-48ee067c3b2e",
   "metadata": {},
   "source": [
    "# Loading the 200GB dataset with FFCVs random sampling"
   ]
  },
  {
   "cell_type": "code",
   "execution_count": 1,
   "id": "0937b7e4-975a-4e8e-92af-d51fb3569854",
   "metadata": {},
   "outputs": [
    {
     "name": "stderr",
     "output_type": "stream",
     "text": [
      "/usr/local/lib/python3.10/dist-packages/numba/np/ufunc/parallel.py:371: NumbaWarning: The TBB threading layer requires TBB version 2021 update 6 or later i.e., TBB_INTERFACE_VERSION >= 12060. Found TBB_INTERFACE_VERSION = 12050. The TBB threading layer is disabled.\n",
      "  warnings.warn(problem)\n"
     ]
    }
   ],
   "source": [
    "from ffcv.loader import Loader, OrderOption\n",
    "from ffcv.fields.decoders import NDArrayDecoder, FloatDecoder\n",
    "from ffcv.transforms import ToTensor\n",
    "import time\n",
    "import os\n",
    "import numpy as np"
   ]
  },
  {
   "cell_type": "code",
   "execution_count": 2,
   "id": "1924b1e6-606b-49fb-a24b-6558a0325b88",
   "metadata": {},
   "outputs": [],
   "source": [
    "loader = Loader(\"data/train_200GB.beton\",\n",
    "                batch_size=48,\n",
    "                num_workers=8,\n",
    "                order=OrderOption.RANDOM,\n",
    "                os_cache=False,\n",
    "                pipelines = { \n",
    "                    \"image\": [NDArrayDecoder(), ToTensor()],\n",
    "                    \"label\": [FloatDecoder(), ToTensor()]\n",
    "                })"
   ]
  },
  {
   "cell_type": "code",
   "execution_count": 3,
   "id": "71e6c108-f293-4218-9f7e-882bb3419acf",
   "metadata": {},
   "outputs": [
    {
     "name": "stdout",
     "output_type": "stream",
     "text": [
      "Epoch 1 done in 319.7451355457306 seconds.\n",
      "Epoch 2 done in 316.8419246673584 seconds.\n",
      "Epoch 3 done in 322.68385124206543 seconds.\n",
      "Epoch 4 done in 317.2130675315857 seconds.\n",
      "Epoch 5 done in 410.2791516780853 seconds.\n",
      "Epoch 6 done in 457.6767113208771 seconds.\n",
      "Epoch 7 done in 309.9457941055298 seconds.\n",
      "Epoch 8 done in 330.6124532222748 seconds.\n",
      "Epoch 9 done in 295.680513381958 seconds.\n",
      "Epoch 10 done in 267.34116291999817 seconds.\n",
      "Epoch 11 done in 269.8850929737091 seconds.\n",
      "Epoch 12 done in 256.6614365577698 seconds.\n",
      "Epoch 13 done in 258.51484274864197 seconds.\n",
      "Epoch 14 done in 272.53777742385864 seconds.\n",
      "Epoch 15 done in 258.6794934272766 seconds.\n",
      "Epoch 16 done in 344.9382908344269 seconds.\n",
      "Epoch 17 done in 356.1587224006653 seconds.\n",
      "Epoch 18 done in 306.158789396286 seconds.\n",
      "Epoch 19 done in 277.46686005592346 seconds.\n",
      "Epoch 20 done in 261.1634705066681 seconds.\n",
      "Total time taken: 6214.545649766922 seconds\n",
      "Total time per epoch: 310.7272824883461 seconds\n"
     ]
    }
   ],
   "source": [
    "num_epochs = 20\n",
    "\n",
    "start_time = time.time()\n",
    "for epoch in range(num_epochs):\n",
    "    epoch_start = time.time()\n",
    "    for images, labels in loader:\n",
    "        pass\n",
    "    epoch_end = time.time()\n",
    "    epoch_time = epoch_end - epoch_start\n",
    "    print(f\"Epoch {epoch+1} done in {epoch_time} seconds.\")\n",
    "end_time = time.time()\n",
    "\n",
    "total_time = end_time - start_time\n",
    "\n",
    "print(f\"Total time taken: {total_time} seconds\")\n",
    "print(f\"Total time per epoch: {total_time/num_epochs} seconds\")"
   ]
  },
  {
   "cell_type": "code",
   "execution_count": null,
   "id": "a6d26e5e-f439-4346-8180-70e4d32b8f11",
   "metadata": {},
   "outputs": [],
   "source": []
  }
 ],
 "metadata": {
  "kernelspec": {
   "display_name": "Python 3 (ipykernel)",
   "language": "python",
   "name": "python3"
  },
  "language_info": {
   "codemirror_mode": {
    "name": "ipython",
    "version": 3
   },
   "file_extension": ".py",
   "mimetype": "text/x-python",
   "name": "python",
   "nbconvert_exporter": "python",
   "pygments_lexer": "ipython3",
   "version": "3.10.12"
  }
 },
 "nbformat": 4,
 "nbformat_minor": 5
}
