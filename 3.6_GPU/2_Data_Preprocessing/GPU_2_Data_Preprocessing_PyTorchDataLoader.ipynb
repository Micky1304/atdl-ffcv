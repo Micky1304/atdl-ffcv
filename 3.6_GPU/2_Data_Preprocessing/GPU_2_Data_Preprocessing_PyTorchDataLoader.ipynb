{
 "cells": [
  {
   "cell_type": "markdown",
   "id": "e4b823aa-6eed-48c2-a1d1-fcda131b6417",
   "metadata": {},
   "source": [
    "# Data Preprocessing in GPU environment with PyTorch"
   ]
  },
  {
   "cell_type": "code",
   "execution_count": 4,
   "id": "b1b5347d-0654-4cb4-8cad-6dd4bc310cba",
   "metadata": {},
   "outputs": [
    {
     "name": "stdout",
     "output_type": "stream",
     "text": [
      "Epoch 1 done in 29.38820505142212 seconds.\n",
      "Epoch 2 done in 8.953882932662964 seconds.\n",
      "Epoch 3 done in 8.759075403213501 seconds.\n",
      "Epoch 4 done in 8.57324481010437 seconds.\n",
      "Epoch 5 done in 8.56590747833252 seconds.\n",
      "Epoch 6 done in 8.47000765800476 seconds.\n",
      "Epoch 7 done in 8.431491374969482 seconds.\n",
      "Epoch 8 done in 8.50905990600586 seconds.\n",
      "Epoch 9 done in 8.609120845794678 seconds.\n",
      "Epoch 10 done in 8.466728448867798 seconds.\n",
      "Total time taken: 106.72879815101624 seconds\n",
      "Total time per epoch: 10.672879815101624 seconds\n"
     ]
    }
   ],
   "source": [
    "import os\n",
    "import numpy as np\n",
    "from torch.utils.data import Dataset, DataLoader\n",
    "import time\n",
    "import matplotlib.pyplot as plt\n",
    "import torch\n",
    "from torchvision import transforms\n",
    "\n",
    "device = 'cuda'\n",
    "\n",
    "class CustomDataset(Dataset):\n",
    "    def __init__(self, data_dir):\n",
    "        self.data_dir = data_dir\n",
    "        self.file_list = [f for f in os.listdir(data_dir) if f.startswith(\"part_\")]\n",
    "        self.labels = np.load(os.path.join(data_dir, \"labels.npy\"), allow_pickle = True).item()\n",
    "        \n",
    "    def __len__(self):\n",
    "        return len(self.file_list)\n",
    "\n",
    "    def __getitem__(self, idx):\n",
    "        file_path = os.path.join(self.data_dir, self.file_list[idx])\n",
    "        image = np.load(file_path)\n",
    "        label = self.labels[self.file_list[idx]]\n",
    "        return image, label\n",
    "\n",
    "data_dir = \"data/train_small_npy\"\n",
    "\n",
    "dataset = CustomDataset(data_dir)\n",
    "dataloader = DataLoader(dataset, batch_size=48, shuffle=True, num_workers=8)\n",
    "\n",
    "num_epochs = 10\n",
    "\n",
    "custom_transform = transforms.Compose([\n",
    "    transforms.RandomVerticalFlip(0.5),\n",
    "    transforms.RandomHorizontalFlip(0.5),\n",
    "    transforms.RandomRotation(90),\n",
    "    transforms.RandomCrop((500, 500))\n",
    "])\n",
    "\n",
    "start_time = time.time()\n",
    "for epoch in range(num_epochs):\n",
    "    epoch_start = time.time()\n",
    "    for images, labels in dataloader:  \n",
    "        images = images.to(device)\n",
    "        labels = labels.to(device)\n",
    "\n",
    "        transformed_images = torch.stack([custom_transform(image)/255.0 for image in images])\n",
    "        \n",
    "    epoch_end = time.time()\n",
    "    epoch_time = epoch_end - epoch_start\n",
    "    print(f\"Epoch {epoch+1} done in {epoch_time} seconds.\")\n",
    "end_time = time.time()\n",
    "\n",
    "total_time = end_time - start_time\n",
    "\n",
    "print(f\"Total time taken: {total_time} seconds\")\n",
    "print(f\"Total time per epoch: {total_time/num_epochs} seconds\")"
   ]
  },
  {
   "cell_type": "code",
   "execution_count": null,
   "id": "fb195148-10f5-45df-8f8a-9110c4650600",
   "metadata": {},
   "outputs": [],
   "source": []
  }
 ],
 "metadata": {
  "kernelspec": {
   "display_name": "Python 3 (ipykernel)",
   "language": "python",
   "name": "python3"
  },
  "language_info": {
   "codemirror_mode": {
    "name": "ipython",
    "version": 3
   },
   "file_extension": ".py",
   "mimetype": "text/x-python",
   "name": "python",
   "nbconvert_exporter": "python",
   "pygments_lexer": "ipython3",
   "version": "3.10.12"
  }
 },
 "nbformat": 4,
 "nbformat_minor": 5
}
