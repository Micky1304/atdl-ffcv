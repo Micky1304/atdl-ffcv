{
 "cells": [
  {
   "cell_type": "markdown",
   "id": "c3916d99-d05f-442b-8b05-f06bf6c84fb6",
   "metadata": {},
   "source": [
    "# Data Loading in CPU environment with PyTorch"
   ]
  },
  {
   "cell_type": "code",
   "execution_count": 1,
   "id": "24d70b37-695e-4ad6-b1ee-53ac1435b09d",
   "metadata": {},
   "outputs": [],
   "source": [
    "import os\n",
    "import numpy as np\n",
    "from torch.utils.data import Dataset, DataLoader\n",
    "import time\n",
    "import matplotlib.pyplot as plt\n",
    "import torch\n",
    "\n",
    "class CustomDataset(Dataset):\n",
    "    def __init__(self, data_dir):\n",
    "        self.data_dir = data_dir\n",
    "        self.file_list = [f for f in os.listdir(data_dir) if f.startswith(\"part_\")]\n",
    "        self.labels = np.load(os.path.join(data_dir, \"labels.npy\"), allow_pickle = True).item()\n",
    "        \n",
    "    def __len__(self):\n",
    "        return len(self.file_list)\n",
    "\n",
    "    def __getitem__(self, idx):\n",
    "        file_path = os.path.join(self.data_dir, self.file_list[idx])\n",
    "        image = np.load(file_path)\n",
    "        label = self.labels[self.file_list[idx]]\n",
    "        return image, label\n",
    "\n",
    "data_dir = \"data/train_small_npy\"\n",
    "dataset = CustomDataset(data_dir)\n",
    "dataloader = DataLoader(dataset, batch_size=48, shuffle=True, num_workers=8)"
   ]
  },
  {
   "cell_type": "code",
   "execution_count": 2,
   "id": "9669a04e-3d86-4c69-867a-969c547532de",
   "metadata": {},
   "outputs": [
    {
     "name": "stdout",
     "output_type": "stream",
     "text": [
      "Epoch 1 done in 22.76828694343567 seconds.\n",
      "Epoch 2 done in 3.410783290863037 seconds.\n",
      "Epoch 3 done in 3.134819746017456 seconds.\n",
      "Epoch 4 done in 2.994314432144165 seconds.\n",
      "Epoch 5 done in 2.9443817138671875 seconds.\n",
      "Epoch 6 done in 3.0001449584960938 seconds.\n",
      "Epoch 7 done in 2.9980835914611816 seconds.\n",
      "Epoch 8 done in 3.0589168071746826 seconds.\n",
      "Epoch 9 done in 2.9907238483428955 seconds.\n",
      "Epoch 10 done in 3.0127363204956055 seconds.\n",
      "Epoch 11 done in 2.9884285926818848 seconds.\n",
      "Epoch 12 done in 2.98771333694458 seconds.\n",
      "Epoch 13 done in 3.083491802215576 seconds.\n",
      "Epoch 14 done in 3.0923750400543213 seconds.\n",
      "Epoch 15 done in 2.9602842330932617 seconds.\n",
      "Epoch 16 done in 2.970792770385742 seconds.\n",
      "Epoch 17 done in 2.9881350994110107 seconds.\n",
      "Epoch 18 done in 2.9133822917938232 seconds.\n",
      "Epoch 19 done in 2.971561908721924 seconds.\n",
      "Epoch 20 done in 2.8955419063568115 seconds.\n",
      "Total time taken: 80.1699869632721 seconds\n",
      "Total time per epoch: 4.008499348163605 seconds\n"
     ]
    }
   ],
   "source": [
    "num_epochs = 20\n",
    "\n",
    "start_time = time.time()\n",
    "for epoch in range(num_epochs):\n",
    "    epoch_start = time.time()\n",
    "    for images, labels in dataloader:\n",
    "        images = images.numpy()\n",
    "        labels = labels.numpy()\n",
    "        pass\n",
    "    epoch_end = time.time()\n",
    "    epoch_time = epoch_end - epoch_start\n",
    "    print(f\"Epoch {epoch+1} done in {epoch_time} seconds.\")\n",
    "end_time = time.time()\n",
    "\n",
    "total_time = end_time - start_time\n",
    "\n",
    "print(f\"Total time taken: {total_time} seconds\")\n",
    "print(f\"Total time per epoch: {total_time/num_epochs} seconds\")"
   ]
  },
  {
   "cell_type": "code",
   "execution_count": null,
   "id": "222edb32-9377-4633-a440-395fe8bef138",
   "metadata": {},
   "outputs": [],
   "source": []
  }
 ],
 "metadata": {
  "kernelspec": {
   "display_name": "Python 3 (ipykernel)",
   "language": "python",
   "name": "python3"
  },
  "language_info": {
   "codemirror_mode": {
    "name": "ipython",
    "version": 3
   },
   "file_extension": ".py",
   "mimetype": "text/x-python",
   "name": "python",
   "nbconvert_exporter": "python",
   "pygments_lexer": "ipython3",
   "version": "3.10.12"
  }
 },
 "nbformat": 4,
 "nbformat_minor": 5
}
